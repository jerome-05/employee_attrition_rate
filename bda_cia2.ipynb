{
  "cells": [
    {
      "cell_type": "markdown",
      "metadata": {
        "id": "view-in-github",
        "colab_type": "text"
      },
      "source": [
        "<a href=\"https://colab.research.google.com/github/jerome-05/jerome-05/blob/main/bda_cia2.ipynb\" target=\"_parent\"><img src=\"https://colab.research.google.com/assets/colab-badge.svg\" alt=\"Open In Colab\"/></a>"
      ]
    },
    {
      "cell_type": "code",
      "execution_count": null,
      "metadata": {
        "colab": {
          "base_uri": "https://localhost:8080/"
        },
        "id": "_JkaXJMVUMfl",
        "outputId": "290d7edb-ff16-4e2a-d4a2-8bb08115243c"
      },
      "outputs": [
        {
          "output_type": "stream",
          "name": "stdout",
          "text": [
            "Collecting pyspark\n",
            "  Downloading pyspark-3.5.1.tar.gz (317.0 MB)\n",
            "\u001b[2K     \u001b[90m━━━━━━━━━━━━━━━━━━━━━━━━━━━━━━━━━━━━━━━━\u001b[0m \u001b[32m317.0/317.0 MB\u001b[0m \u001b[31m3.8 MB/s\u001b[0m eta \u001b[36m0:00:00\u001b[0m\n",
            "\u001b[?25h  Preparing metadata (setup.py) ... \u001b[?25l\u001b[?25hdone\n",
            "Requirement already satisfied: py4j==0.10.9.7 in /usr/local/lib/python3.10/dist-packages (from pyspark) (0.10.9.7)\n",
            "Building wheels for collected packages: pyspark\n",
            "  Building wheel for pyspark (setup.py) ... \u001b[?25l\u001b[?25hdone\n",
            "  Created wheel for pyspark: filename=pyspark-3.5.1-py2.py3-none-any.whl size=317488491 sha256=02b8346db58803bfcedd85d8bc2850090f0f07a0a2c45dadcef0c6eb68feba2e\n",
            "  Stored in directory: /root/.cache/pip/wheels/80/1d/60/2c256ed38dddce2fdd93be545214a63e02fbd8d74fb0b7f3a6\n",
            "Successfully built pyspark\n",
            "Installing collected packages: pyspark\n",
            "Successfully installed pyspark-3.5.1\n"
          ]
        }
      ],
      "source": [
        "pip install pyspark"
      ]
    },
    {
      "cell_type": "code",
      "execution_count": null,
      "metadata": {
        "id": "37_S7juBUQ_v"
      },
      "outputs": [],
      "source": [
        "from pyspark.sql import SparkSession\n",
        "spark = SparkSession.builder \\\n",
        "    .appName(\"Customer attrition rate\") \\\n",
        "    .getOrCreate()"
      ]
    },
    {
      "cell_type": "code",
      "execution_count": null,
      "metadata": {
        "id": "klXpj85xUZ2o"
      },
      "outputs": [],
      "source": [
        "data = spark.read.csv(\"/content/drive/MyDrive/Train.csv\", header=True, inferSchema=True)"
      ]
    },
    {
      "cell_type": "code",
      "execution_count": null,
      "metadata": {
        "colab": {
          "base_uri": "https://localhost:8080/"
        },
        "id": "3oUp1p0PUwMc",
        "outputId": "36208f81-43c4-4a53-9842-b14e28a4b309"
      },
      "outputs": [
        {
          "output_type": "stream",
          "name": "stdout",
          "text": [
            "+-----------+------+----+---------------+-------------------+-----------+--------------------+----------------------+---------------+--------------------+-----------+-----------+----------+---------+-------------------------+-----------------+----+-------+-------+----+----+----+----+--------------------+\n",
            "|Employee_ID|Gender| Age|Education_Level|Relationship_Status|   Hometown|                Unit|Decision_skill_possess|Time_of_service|Time_since_promotion|growth_rate|Travel_Rate|Post_Level|Pay_Scale|Compensation_and_Benefits|Work_Life_balance|VAR1|   VAR2|   VAR3|VAR4|VAR5|VAR6|VAR7|      Attrition_rate|\n",
            "+-----------+------+----+---------------+-------------------+-----------+--------------------+----------------------+---------------+--------------------+-----------+-----------+----------+---------+-------------------------+-----------------+----+-------+-------+----+----+----+----+--------------------+\n",
            "|  EID_23371|     F|42.0|              4|            Married|   Franklin|                  IT|            Conceptual|            4.0|                   4|         33|          1|         1|      7.0|                    type2|              3.0|   4| 0.7516| 1.8688| 2.0|   4|   5|   3|              0.1841|\n",
            "|  EID_18000|     M|24.0|              3|             Single|Springfield|           Logistics|            Analytical|            5.0|                   4|         36|          0|         3|      6.0|                    type2|              4.0|   3|-0.9612|-0.4537| 2.0|   3|   5|   3|               0.067|\n",
            "|   EID_3891|     F|58.0|              3|            Married|    Clinton|             Quality|            Conceptual|           27.0|                   3|         51|          0|         2|      8.0|                    type2|              1.0|   4|-0.9612|-0.4537| 3.0|   3|   8|   3|              0.0851|\n",
            "|  EID_17492|     F|26.0|              3|             Single|    Lebanon|Human Resource Ma...|            Behavioral|            4.0|                   3|         56|          1|         3|      8.0|                    type2|              1.0|   3|-1.8176|-0.4537|NULL|   3|   7|   3|              0.0668|\n",
            "|  EID_22534|     F|31.0|              1|            Married|Springfield|           Logistics|            Conceptual|            5.0|                   4|         62|          1|         3|      2.0|                    type3|              3.0|   1| 0.7516|-0.4537| 2.0|   2|   8|   2|              0.1827|\n",
            "|   EID_2278|     M|54.0|              3|            Married|    Lebanon|          Purchasing|            Conceptual|           19.0|                   1|         21|          2|         5|      9.0|                    type2|              1.0|   3|-1.8176| 1.8688| 2.0|   2|   8|   3|              0.7613|\n",
            "|  EID_18588|     F|21.0|              4|            Married|Springfield|          Purchasing|             Directive|            2.0|                   1|         50|          1|         1|      6.0|                    type2|              2.0|   3|-0.9612| 0.7075| 2.0|   3|   7|   3|              0.2819|\n",
            "|   EID_1235|     F|NULL|              3|            Married|Springfield|               Sales|             Directive|           34.0|                   4|         23|          1|         4|      6.0|                    type3|              2.0|   3|-0.1048|-0.4537| 2.0|   3|   9|   3|              0.1169|\n",
            "|  EID_10197|     M|40.0|              4|             Single|Springfield|          Production|            Analytical|           13.0|                   1|         49|          0|         1|      9.0|                    type0|              4.0|   1|   NULL| 1.8688| 2.0|   5|   6|   3|              0.1968|\n",
            "|  EID_21262|     M|45.0|              3|            Married|    Lebanon|                  IT|             Directive|           21.0|                   4|         34|          0|         2|      5.0|                    type3|              4.0|   3| 0.7516|-0.4537| 2.0|   4|   8|   3|               0.287|\n",
            "|   EID_9153|     F|65.0|              5|             Single|    Lebanon|          Purchasing|            Behavioral|           31.0|                   3|         49|          1|         1|      6.0|                    type3|              3.0|   3| 0.7516|-0.4537| 3.0|   4|   6|   3|              0.2735|\n",
            "|  EID_19087|     F|19.0|              5|             Single|Springfield|          Operarions|            Analytical|            0.0|                   0|         25|          1|         2|      5.0|                    type4|              1.0|   3|-1.8176|-0.4537| 2.0|   3|   6|   3|                0.08|\n",
            "|   EID_4825|     M|63.0|              3|            Married|    Lebanon|               Sales|            Conceptual|           27.0|                   1|         29|          0|         2|      7.0|                    type2|              1.0|   3|-0.1048|-0.4537| 2.0|   5|   6|   3|              0.2109|\n",
            "|  EID_17644|     F|23.0|              4|             Single| Washington|           Logistics|            Conceptual|            4.0|                   2|         70|          1|         3|      8.0|                    type2|              3.0|   4|-0.1048| -1.615| 2.0|   4|   8|   3|              0.1696|\n",
            "|  EID_20902|     F|19.0|              3|            Married| Washington|Human Resource Ma...|             Directive|            0.0|                   0|         74|          0|         2|      9.0|                    type2|              3.0|   3|-0.9612| 1.8688| 2.0|   4|   6|   3|              0.0318|\n",
            "|  EID_20121|     F|NULL|              3|            Married|Springfield|           Logistics|            Analytical|            0.0|                   0|         32|          1|         2|      6.0|                    type2|              2.0|   3| 0.7516| -1.615| 1.0|   3|   8|   3|              0.1331|\n",
            "|   EID_5504|     M|65.0|              4|             Single|   Franklin|                  IT|            Behavioral|           35.0|                   1|         58|          0|         3|      4.0|                    type2|              2.0|   3|-0.1048| 0.7075| 1.0|   3|   5|   3|              0.0671|\n",
            "|   EID_8049|     F|40.0|              4|            Married|Springfield|Accounting and Fi...|             Directive|           12.0|                   1|         45|          1|         3|      9.0|                    type3|              2.0|   3|-0.9612|-0.4537| 2.0|   5|   8|   4|              0.1468|\n",
            "|  EID_14638|     M|33.0|              3|             Single|Springfield|Accounting and Fi...|            Analytical|            9.0|                   1|         39|          1|         2|      5.0|                    type3|              1.0|   3|-1.8176| 0.7075| 2.0|   3|   8|   3|0.055999999999999994|\n",
            "|  EID_12947|     M|32.0|              3|             Single|    Lebanon|                  IT|            Conceptual|            7.0|                   4|         44|          0|         4|      5.0|                    type2|              1.0|   3|   NULL| 0.7075| 1.0|   1|   5|   4|  0.6409999999999999|\n",
            "+-----------+------+----+---------------+-------------------+-----------+--------------------+----------------------+---------------+--------------------+-----------+-----------+----------+---------+-------------------------+-----------------+----+-------+-------+----+----+----+----+--------------------+\n",
            "only showing top 20 rows\n",
            "\n"
          ]
        }
      ],
      "source": [
        "data.show()"
      ]
    },
    {
      "cell_type": "markdown",
      "source": [
        "## ACTIONS"
      ],
      "metadata": {
        "id": "uHoPaopHe_Eh"
      }
    },
    {
      "cell_type": "code",
      "execution_count": null,
      "metadata": {
        "colab": {
          "base_uri": "https://localhost:8080/"
        },
        "id": "LQfYUKzmVS5Z",
        "outputId": "7b039a9d-02bf-43cb-d654-4d14bd513ee7"
      },
      "outputs": [
        {
          "output_type": "stream",
          "name": "stdout",
          "text": [
            "root\n",
            " |-- Employee_ID: string (nullable = true)\n",
            " |-- Gender: string (nullable = true)\n",
            " |-- Age: double (nullable = true)\n",
            " |-- Education_Level: integer (nullable = true)\n",
            " |-- Relationship_Status: string (nullable = true)\n",
            " |-- Hometown: string (nullable = true)\n",
            " |-- Unit: string (nullable = true)\n",
            " |-- Decision_skill_possess: string (nullable = true)\n",
            " |-- Time_of_service: double (nullable = true)\n",
            " |-- Time_since_promotion: integer (nullable = true)\n",
            " |-- growth_rate: integer (nullable = true)\n",
            " |-- Travel_Rate: integer (nullable = true)\n",
            " |-- Post_Level: integer (nullable = true)\n",
            " |-- Pay_Scale: double (nullable = true)\n",
            " |-- Compensation_and_Benefits: string (nullable = true)\n",
            " |-- Work_Life_balance: double (nullable = true)\n",
            " |-- VAR1: integer (nullable = true)\n",
            " |-- VAR2: double (nullable = true)\n",
            " |-- VAR3: double (nullable = true)\n",
            " |-- VAR4: double (nullable = true)\n",
            " |-- VAR5: integer (nullable = true)\n",
            " |-- VAR6: integer (nullable = true)\n",
            " |-- VAR7: integer (nullable = true)\n",
            " |-- Attrition_rate: double (nullable = true)\n",
            "\n"
          ]
        }
      ],
      "source": [
        "# printSchema() to view the schema of the dataframe\n",
        "data.printSchema()"
      ]
    },
    {
      "cell_type": "code",
      "source": [
        "# show() to view the records in the dataframe\n",
        "data.show(truncate=False)"
      ],
      "metadata": {
        "colab": {
          "base_uri": "https://localhost:8080/"
        },
        "id": "POq1yYZb3jAI",
        "outputId": "53ba449a-670e-4bfb-c1e8-171cff82c55e"
      },
      "execution_count": null,
      "outputs": [
        {
          "output_type": "stream",
          "name": "stdout",
          "text": [
            "+-----------+------+----+---------------+-------------------+-----------+-------------------------+----------------------+---------------+--------------------+-----------+-----------+----------+---------+-------------------------+-----------------+----+-------+-------+----+----+----+----+--------------------+\n",
            "|Employee_ID|Gender|Age |Education_Level|Relationship_Status|Hometown   |Unit                     |Decision_skill_possess|Time_of_service|Time_since_promotion|growth_rate|Travel_Rate|Post_Level|Pay_Scale|Compensation_and_Benefits|Work_Life_balance|VAR1|VAR2   |VAR3   |VAR4|VAR5|VAR6|VAR7|Attrition_rate      |\n",
            "+-----------+------+----+---------------+-------------------+-----------+-------------------------+----------------------+---------------+--------------------+-----------+-----------+----------+---------+-------------------------+-----------------+----+-------+-------+----+----+----+----+--------------------+\n",
            "|EID_23371  |F     |42.0|4              |Married            |Franklin   |IT                       |Conceptual            |4.0            |4                   |33         |1          |1         |7.0      |type2                    |3.0              |4   |0.7516 |1.8688 |2.0 |4   |5   |3   |0.1841              |\n",
            "|EID_18000  |M     |24.0|3              |Single             |Springfield|Logistics                |Analytical            |5.0            |4                   |36         |0          |3         |6.0      |type2                    |4.0              |3   |-0.9612|-0.4537|2.0 |3   |5   |3   |0.067               |\n",
            "|EID_3891   |F     |58.0|3              |Married            |Clinton    |Quality                  |Conceptual            |27.0           |3                   |51         |0          |2         |8.0      |type2                    |1.0              |4   |-0.9612|-0.4537|3.0 |3   |8   |3   |0.0851              |\n",
            "|EID_17492  |F     |26.0|3              |Single             |Lebanon    |Human Resource Management|Behavioral            |4.0            |3                   |56         |1          |3         |8.0      |type2                    |1.0              |3   |-1.8176|-0.4537|NULL|3   |7   |3   |0.0668              |\n",
            "|EID_22534  |F     |31.0|1              |Married            |Springfield|Logistics                |Conceptual            |5.0            |4                   |62         |1          |3         |2.0      |type3                    |3.0              |1   |0.7516 |-0.4537|2.0 |2   |8   |2   |0.1827              |\n",
            "|EID_2278   |M     |54.0|3              |Married            |Lebanon    |Purchasing               |Conceptual            |19.0           |1                   |21         |2          |5         |9.0      |type2                    |1.0              |3   |-1.8176|1.8688 |2.0 |2   |8   |3   |0.7613              |\n",
            "|EID_18588  |F     |21.0|4              |Married            |Springfield|Purchasing               |Directive             |2.0            |1                   |50         |1          |1         |6.0      |type2                    |2.0              |3   |-0.9612|0.7075 |2.0 |3   |7   |3   |0.2819              |\n",
            "|EID_1235   |F     |NULL|3              |Married            |Springfield|Sales                    |Directive             |34.0           |4                   |23         |1          |4         |6.0      |type3                    |2.0              |3   |-0.1048|-0.4537|2.0 |3   |9   |3   |0.1169              |\n",
            "|EID_10197  |M     |40.0|4              |Single             |Springfield|Production               |Analytical            |13.0           |1                   |49         |0          |1         |9.0      |type0                    |4.0              |1   |NULL   |1.8688 |2.0 |5   |6   |3   |0.1968              |\n",
            "|EID_21262  |M     |45.0|3              |Married            |Lebanon    |IT                       |Directive             |21.0           |4                   |34         |0          |2         |5.0      |type3                    |4.0              |3   |0.7516 |-0.4537|2.0 |4   |8   |3   |0.287               |\n",
            "|EID_9153   |F     |65.0|5              |Single             |Lebanon    |Purchasing               |Behavioral            |31.0           |3                   |49         |1          |1         |6.0      |type3                    |3.0              |3   |0.7516 |-0.4537|3.0 |4   |6   |3   |0.2735              |\n",
            "|EID_19087  |F     |19.0|5              |Single             |Springfield|Operarions               |Analytical            |0.0            |0                   |25         |1          |2         |5.0      |type4                    |1.0              |3   |-1.8176|-0.4537|2.0 |3   |6   |3   |0.08                |\n",
            "|EID_4825   |M     |63.0|3              |Married            |Lebanon    |Sales                    |Conceptual            |27.0           |1                   |29         |0          |2         |7.0      |type2                    |1.0              |3   |-0.1048|-0.4537|2.0 |5   |6   |3   |0.2109              |\n",
            "|EID_17644  |F     |23.0|4              |Single             |Washington |Logistics                |Conceptual            |4.0            |2                   |70         |1          |3         |8.0      |type2                    |3.0              |4   |-0.1048|-1.615 |2.0 |4   |8   |3   |0.1696              |\n",
            "|EID_20902  |F     |19.0|3              |Married            |Washington |Human Resource Management|Directive             |0.0            |0                   |74         |0          |2         |9.0      |type2                    |3.0              |3   |-0.9612|1.8688 |2.0 |4   |6   |3   |0.0318              |\n",
            "|EID_20121  |F     |NULL|3              |Married            |Springfield|Logistics                |Analytical            |0.0            |0                   |32         |1          |2         |6.0      |type2                    |2.0              |3   |0.7516 |-1.615 |1.0 |3   |8   |3   |0.1331              |\n",
            "|EID_5504   |M     |65.0|4              |Single             |Franklin   |IT                       |Behavioral            |35.0           |1                   |58         |0          |3         |4.0      |type2                    |2.0              |3   |-0.1048|0.7075 |1.0 |3   |5   |3   |0.0671              |\n",
            "|EID_8049   |F     |40.0|4              |Married            |Springfield|Accounting and Finance   |Directive             |12.0           |1                   |45         |1          |3         |9.0      |type3                    |2.0              |3   |-0.9612|-0.4537|2.0 |5   |8   |4   |0.1468              |\n",
            "|EID_14638  |M     |33.0|3              |Single             |Springfield|Accounting and Finance   |Analytical            |9.0            |1                   |39         |1          |2         |5.0      |type3                    |1.0              |3   |-1.8176|0.7075 |2.0 |3   |8   |3   |0.055999999999999994|\n",
            "|EID_12947  |M     |32.0|3              |Single             |Lebanon    |IT                       |Conceptual            |7.0            |4                   |44         |0          |4         |5.0      |type2                    |1.0              |3   |NULL   |0.7075 |1.0 |1   |5   |4   |0.6409999999999999  |\n",
            "+-----------+------+----+---------------+-------------------+-----------+-------------------------+----------------------+---------------+--------------------+-----------+-----------+----------+---------+-------------------------+-----------------+----+-------+-------+----+----+----+----+--------------------+\n",
            "only showing top 20 rows\n",
            "\n"
          ]
        }
      ]
    },
    {
      "cell_type": "code",
      "source": [
        "# first() to display the first record in the dataframe\n",
        "data.first()"
      ],
      "metadata": {
        "colab": {
          "base_uri": "https://localhost:8080/"
        },
        "id": "MabgJGcs3nWR",
        "outputId": "79a3b7e6-fb30-41f4-914c-1b75f18f720f"
      },
      "execution_count": null,
      "outputs": [
        {
          "output_type": "execute_result",
          "data": {
            "text/plain": [
              "Row(Employee_ID='EID_23371', Gender='F', Age=42.0, Education_Level=4, Relationship_Status='Married', Hometown='Franklin', Unit='IT', Decision_skill_possess='Conceptual', Time_of_service=4.0, Time_since_promotion=4, growth_rate=33, Travel_Rate=1, Post_Level=1, Pay_Scale=7.0, Compensation_and_Benefits='type2', Work_Life_balance=3.0, VAR1=4, VAR2=0.7516, VAR3=1.8688, VAR4=2.0, VAR5=4, VAR6=5, VAR7=3, Attrition_rate=0.1841)"
            ]
          },
          "metadata": {},
          "execution_count": 9
        }
      ]
    },
    {
      "cell_type": "code",
      "source": [
        "# limit() to display only the number records specified\n",
        "data.limit(2).show()"
      ],
      "metadata": {
        "colab": {
          "base_uri": "https://localhost:8080/"
        },
        "id": "LO1W8P5n4OdZ",
        "outputId": "0ab1ab14-aeb9-49c1-9f7a-b66354234360"
      },
      "execution_count": null,
      "outputs": [
        {
          "output_type": "stream",
          "name": "stdout",
          "text": [
            "+-----------+------+----+---------------+-------------------+-----------+---------+----------------------+---------------+--------------------+-----------+-----------+----------+---------+-------------------------+-----------------+----+-------+-------+----+----+----+----+--------------+\n",
            "|Employee_ID|Gender| Age|Education_Level|Relationship_Status|   Hometown|     Unit|Decision_skill_possess|Time_of_service|Time_since_promotion|growth_rate|Travel_Rate|Post_Level|Pay_Scale|Compensation_and_Benefits|Work_Life_balance|VAR1|   VAR2|   VAR3|VAR4|VAR5|VAR6|VAR7|Attrition_rate|\n",
            "+-----------+------+----+---------------+-------------------+-----------+---------+----------------------+---------------+--------------------+-----------+-----------+----------+---------+-------------------------+-----------------+----+-------+-------+----+----+----+----+--------------+\n",
            "|  EID_23371|     F|42.0|              4|            Married|   Franklin|       IT|            Conceptual|            4.0|                   4|         33|          1|         1|      7.0|                    type2|              3.0|   4| 0.7516| 1.8688| 2.0|   4|   5|   3|        0.1841|\n",
            "|  EID_18000|     M|24.0|              3|             Single|Springfield|Logistics|            Analytical|            5.0|                   4|         36|          0|         3|      6.0|                    type2|              4.0|   3|-0.9612|-0.4537| 2.0|   3|   5|   3|         0.067|\n",
            "+-----------+------+----+---------------+-------------------+-----------+---------+----------------------+---------------+--------------------+-----------+-----------+----------+---------+-------------------------+-----------------+----+-------+-------+----+----+----+----+--------------+\n",
            "\n"
          ]
        }
      ]
    },
    {
      "cell_type": "code",
      "source": [
        "# take() to display the number of records specified in form of a list\n",
        "data.take(4)"
      ],
      "metadata": {
        "colab": {
          "base_uri": "https://localhost:8080/"
        },
        "id": "Z38IzmtO4SGk",
        "outputId": "db93d991-bc2e-4ebb-94db-101d3d3e5d3d"
      },
      "execution_count": null,
      "outputs": [
        {
          "output_type": "execute_result",
          "data": {
            "text/plain": [
              "[Row(Employee_ID='EID_23371', Gender='F', Age=42.0, Education_Level=4, Relationship_Status='Married', Hometown='Franklin', Unit='IT', Decision_skill_possess='Conceptual', Time_of_service=4.0, Time_since_promotion=4, growth_rate=33, Travel_Rate=1, Post_Level=1, Pay_Scale=7.0, Compensation_and_Benefits='type2', Work_Life_balance=3.0, VAR1=4, VAR2=0.7516, VAR3=1.8688, VAR4=2.0, VAR5=4, VAR6=5, VAR7=3, Attrition_rate=0.1841),\n",
              " Row(Employee_ID='EID_18000', Gender='M', Age=24.0, Education_Level=3, Relationship_Status='Single', Hometown='Springfield', Unit='Logistics', Decision_skill_possess='Analytical', Time_of_service=5.0, Time_since_promotion=4, growth_rate=36, Travel_Rate=0, Post_Level=3, Pay_Scale=6.0, Compensation_and_Benefits='type2', Work_Life_balance=4.0, VAR1=3, VAR2=-0.9612, VAR3=-0.4537, VAR4=2.0, VAR5=3, VAR6=5, VAR7=3, Attrition_rate=0.067),\n",
              " Row(Employee_ID='EID_3891', Gender='F', Age=58.0, Education_Level=3, Relationship_Status='Married', Hometown='Clinton', Unit='Quality', Decision_skill_possess='Conceptual', Time_of_service=27.0, Time_since_promotion=3, growth_rate=51, Travel_Rate=0, Post_Level=2, Pay_Scale=8.0, Compensation_and_Benefits='type2', Work_Life_balance=1.0, VAR1=4, VAR2=-0.9612, VAR3=-0.4537, VAR4=3.0, VAR5=3, VAR6=8, VAR7=3, Attrition_rate=0.0851),\n",
              " Row(Employee_ID='EID_17492', Gender='F', Age=26.0, Education_Level=3, Relationship_Status='Single', Hometown='Lebanon', Unit='Human Resource Management', Decision_skill_possess='Behavioral', Time_of_service=4.0, Time_since_promotion=3, growth_rate=56, Travel_Rate=1, Post_Level=3, Pay_Scale=8.0, Compensation_and_Benefits='type2', Work_Life_balance=1.0, VAR1=3, VAR2=-1.8176, VAR3=-0.4537, VAR4=None, VAR5=3, VAR6=7, VAR7=3, Attrition_rate=0.0668)]"
            ]
          },
          "metadata": {},
          "execution_count": 13
        }
      ]
    },
    {
      "cell_type": "code",
      "source": [
        "# getNumPartitions() to get the total number of partitions\n",
        "data.rdd.getNumPartitions()"
      ],
      "metadata": {
        "colab": {
          "base_uri": "https://localhost:8080/"
        },
        "id": "0aeicIGK4Wa5",
        "outputId": "15ca0c97-5937-4d53-e833-d6ebb07de3af"
      },
      "execution_count": null,
      "outputs": [
        {
          "output_type": "execute_result",
          "data": {
            "text/plain": [
              "1"
            ]
          },
          "metadata": {},
          "execution_count": 15
        }
      ]
    },
    {
      "cell_type": "code",
      "source": [
        "# repartition() to change the number of partitions\n",
        "data1=data.repartition(5)\n",
        "data1.rdd.getNumPartitions()"
      ],
      "metadata": {
        "colab": {
          "base_uri": "https://localhost:8080/"
        },
        "id": "mxj4xXg14n6h",
        "outputId": "d16633fe-13c4-4709-8ffe-2dd779f4eb5d"
      },
      "execution_count": null,
      "outputs": [
        {
          "output_type": "execute_result",
          "data": {
            "text/plain": [
              "5"
            ]
          },
          "metadata": {},
          "execution_count": 16
        }
      ]
    },
    {
      "cell_type": "code",
      "source": [
        "# coalesce() to change the number of partitions\n",
        "data2=data1.coalesce(3)\n",
        "data2.rdd.getNumPartitions()"
      ],
      "metadata": {
        "colab": {
          "base_uri": "https://localhost:8080/"
        },
        "id": "x_5mO-7c4zjf",
        "outputId": "7173f3c7-ff9f-4294-d024-ccf55cb21285"
      },
      "execution_count": null,
      "outputs": [
        {
          "output_type": "execute_result",
          "data": {
            "text/plain": [
              "3"
            ]
          },
          "metadata": {},
          "execution_count": 17
        }
      ]
    },
    {
      "cell_type": "markdown",
      "source": [
        "## TRANSFORMATION"
      ],
      "metadata": {
        "id": "IpWhR7EGfHH2"
      }
    },
    {
      "cell_type": "code",
      "source": [
        "# select() to choose only the columns specified\n",
        "new_data=data.select(\"Employee_ID\",\"Gender\",\"Age\",\"Hometown\")"
      ],
      "metadata": {
        "id": "vWzGsTjs45XQ"
      },
      "execution_count": null,
      "outputs": []
    },
    {
      "cell_type": "code",
      "source": [
        "new_data.show()"
      ],
      "metadata": {
        "colab": {
          "base_uri": "https://localhost:8080/"
        },
        "id": "PARAwLVD5p2u",
        "outputId": "afd920b9-d9f2-4abe-d1b3-9ddf32a0cb63"
      },
      "execution_count": null,
      "outputs": [
        {
          "output_type": "stream",
          "name": "stdout",
          "text": [
            "+-----------+------+----+-----------+\n",
            "|Employee_ID|Gender| Age|   Hometown|\n",
            "+-----------+------+----+-----------+\n",
            "|  EID_23371|     F|42.0|   Franklin|\n",
            "|  EID_18000|     M|24.0|Springfield|\n",
            "|   EID_3891|     F|58.0|    Clinton|\n",
            "|  EID_17492|     F|26.0|    Lebanon|\n",
            "|  EID_22534|     F|31.0|Springfield|\n",
            "|   EID_2278|     M|54.0|    Lebanon|\n",
            "|  EID_18588|     F|21.0|Springfield|\n",
            "|   EID_1235|     F|NULL|Springfield|\n",
            "|  EID_10197|     M|40.0|Springfield|\n",
            "|  EID_21262|     M|45.0|    Lebanon|\n",
            "|   EID_9153|     F|65.0|    Lebanon|\n",
            "|  EID_19087|     F|19.0|Springfield|\n",
            "|   EID_4825|     M|63.0|    Lebanon|\n",
            "|  EID_17644|     F|23.0| Washington|\n",
            "|  EID_20902|     F|19.0| Washington|\n",
            "|  EID_20121|     F|NULL|Springfield|\n",
            "|   EID_5504|     M|65.0|   Franklin|\n",
            "|   EID_8049|     F|40.0|Springfield|\n",
            "|  EID_14638|     M|33.0|Springfield|\n",
            "|  EID_12947|     M|32.0|    Lebanon|\n",
            "+-----------+------+----+-----------+\n",
            "only showing top 20 rows\n",
            "\n"
          ]
        }
      ]
    },
    {
      "cell_type": "code",
      "source": [
        "new_data.printSchema()"
      ],
      "metadata": {
        "colab": {
          "base_uri": "https://localhost:8080/"
        },
        "id": "AnZ3LFy-5cdZ",
        "outputId": "91a5cea7-9045-46c6-8a61-616fbb3154cf"
      },
      "execution_count": null,
      "outputs": [
        {
          "output_type": "stream",
          "name": "stdout",
          "text": [
            "root\n",
            " |-- Employee_ID: string (nullable = true)\n",
            " |-- Gender: string (nullable = true)\n",
            " |-- Age: double (nullable = true)\n",
            " |-- Hometown: string (nullable = true)\n",
            "\n"
          ]
        }
      ]
    },
    {
      "cell_type": "code",
      "source": [
        "new_data.show(truncate=False)"
      ],
      "metadata": {
        "colab": {
          "base_uri": "https://localhost:8080/"
        },
        "id": "3xs--m4T5pPi",
        "outputId": "f5a85fba-95cc-48a4-c1a7-1cced790f694"
      },
      "execution_count": null,
      "outputs": [
        {
          "output_type": "stream",
          "name": "stdout",
          "text": [
            "+-----------+------+----+-----------+\n",
            "|Employee_ID|Gender|Age |Hometown   |\n",
            "+-----------+------+----+-----------+\n",
            "|EID_23371  |F     |42.0|Franklin   |\n",
            "|EID_18000  |M     |24.0|Springfield|\n",
            "|EID_3891   |F     |58.0|Clinton    |\n",
            "|EID_17492  |F     |26.0|Lebanon    |\n",
            "|EID_22534  |F     |31.0|Springfield|\n",
            "|EID_2278   |M     |54.0|Lebanon    |\n",
            "|EID_18588  |F     |21.0|Springfield|\n",
            "|EID_1235   |F     |NULL|Springfield|\n",
            "|EID_10197  |M     |40.0|Springfield|\n",
            "|EID_21262  |M     |45.0|Lebanon    |\n",
            "|EID_9153   |F     |65.0|Lebanon    |\n",
            "|EID_19087  |F     |19.0|Springfield|\n",
            "|EID_4825   |M     |63.0|Lebanon    |\n",
            "|EID_17644  |F     |23.0|Washington |\n",
            "|EID_20902  |F     |19.0|Washington |\n",
            "|EID_20121  |F     |NULL|Springfield|\n",
            "|EID_5504   |M     |65.0|Franklin   |\n",
            "|EID_8049   |F     |40.0|Springfield|\n",
            "|EID_14638  |M     |33.0|Springfield|\n",
            "|EID_12947  |M     |32.0|Lebanon    |\n",
            "+-----------+------+----+-----------+\n",
            "only showing top 20 rows\n",
            "\n"
          ]
        }
      ]
    },
    {
      "cell_type": "code",
      "source": [
        "# groupBy() to group the data based on GENDER and provide the minimum PAY_SCALE obtained by that author\n",
        "data.groupBy(\"Gender\").min(\"Pay_Scale\").show()"
      ],
      "metadata": {
        "colab": {
          "base_uri": "https://localhost:8080/"
        },
        "id": "8-XpSeMr5yVw",
        "outputId": "f1a3403d-ee16-4612-ce35-cb8a123f17ac"
      },
      "execution_count": null,
      "outputs": [
        {
          "output_type": "stream",
          "name": "stdout",
          "text": [
            "+------+--------------+\n",
            "|Gender|min(Pay_Scale)|\n",
            "+------+--------------+\n",
            "|     F|           1.0|\n",
            "|     M|           1.0|\n",
            "+------+--------------+\n",
            "\n"
          ]
        }
      ]
    },
    {
      "cell_type": "code",
      "source": [
        "# groupBy() to group the data based on GENDER and provide the minimum PAY_SCALE obtained by that author\n",
        "data.groupBy(\"Gender\").max(\"Pay_Scale\").show()"
      ],
      "metadata": {
        "colab": {
          "base_uri": "https://localhost:8080/"
        },
        "id": "bPQWbXTE6A36",
        "outputId": "7699ea06-de93-4661-94ed-3ea35c924ec8"
      },
      "execution_count": null,
      "outputs": [
        {
          "output_type": "stream",
          "name": "stdout",
          "text": [
            "+------+--------------+\n",
            "|Gender|max(Pay_Scale)|\n",
            "+------+--------------+\n",
            "|     F|          10.0|\n",
            "|     M|          10.0|\n",
            "+------+--------------+\n",
            "\n"
          ]
        }
      ]
    },
    {
      "cell_type": "code",
      "source": [
        "# groupBy() to group the data based on AGE and provide the sum of GROWTH_RATE by that AGE\n",
        "data.groupBy(\"Age\").sum(\"growth_rate\").show()"
      ],
      "metadata": {
        "colab": {
          "base_uri": "https://localhost:8080/"
        },
        "id": "4zlCMNkM6K3N",
        "outputId": "10708d07-d957-41b1-d9e4-d4c3ba7b702d"
      },
      "execution_count": null,
      "outputs": [
        {
          "output_type": "stream",
          "name": "stdout",
          "text": [
            "+----+----------------+\n",
            "| Age|sum(growth_rate)|\n",
            "+----+----------------+\n",
            "|49.0|            4516|\n",
            "|29.0|            5295|\n",
            "|64.0|            4916|\n",
            "|47.0|            9003|\n",
            "|42.0|            9208|\n",
            "|44.0|            3970|\n",
            "|NULL|           19279|\n",
            "|35.0|            9974|\n",
            "|62.0|            3120|\n",
            "|39.0|            3984|\n",
            "|34.0|            4618|\n",
            "|37.0|            9933|\n",
            "|25.0|           10803|\n",
            "|36.0|            4890|\n",
            "|41.0|            4266|\n",
            "|23.0|            6707|\n",
            "|50.0|            4748|\n",
            "|56.0|            4456|\n",
            "|45.0|            8424|\n",
            "|31.0|           10209|\n",
            "+----+----------------+\n",
            "only showing top 20 rows\n",
            "\n"
          ]
        }
      ]
    },
    {
      "cell_type": "code",
      "source": [
        "# count() to find the REL_STATUS published by AGE\n",
        "author_data=data.groupBy(\"Age\").count()\n",
        "author_data=author_data.withColumnRenamed(\"Relationship_Status\",\"rel_status\")\n",
        "author_data.show(50,truncate=False)"
      ],
      "metadata": {
        "colab": {
          "base_uri": "https://localhost:8080/"
        },
        "id": "k-6IeOR-6YAT",
        "outputId": "f8681f99-d2ed-4db3-84c9-cfcb4507569d"
      },
      "execution_count": null,
      "outputs": [
        {
          "output_type": "stream",
          "name": "stdout",
          "text": [
            "+----+-----+\n",
            "|Age |count|\n",
            "+----+-----+\n",
            "|49.0|97   |\n",
            "|29.0|115  |\n",
            "|64.0|95   |\n",
            "|47.0|193  |\n",
            "|42.0|193  |\n",
            "|44.0|85   |\n",
            "|NULL|412  |\n",
            "|35.0|205  |\n",
            "|62.0|69   |\n",
            "|39.0|83   |\n",
            "|34.0|99   |\n",
            "|37.0|208  |\n",
            "|25.0|235  |\n",
            "|36.0|106  |\n",
            "|41.0|92   |\n",
            "|23.0|148  |\n",
            "|50.0|101  |\n",
            "|56.0|94   |\n",
            "|45.0|184  |\n",
            "|31.0|218  |\n",
            "|58.0|122  |\n",
            "|21.0|171  |\n",
            "|51.0|103  |\n",
            "|63.0|73   |\n",
            "|48.0|79   |\n",
            "|22.0|235  |\n",
            "|60.0|211  |\n",
            "|19.0|151  |\n",
            "|53.0|88   |\n",
            "|61.0|63   |\n",
            "|59.0|136  |\n",
            "|46.0|98   |\n",
            "|28.0|194  |\n",
            "|57.0|92   |\n",
            "|38.0|89   |\n",
            "|27.0|231  |\n",
            "|40.0|81   |\n",
            "|30.0|191  |\n",
            "|33.0|104  |\n",
            "|20.0|122  |\n",
            "|52.0|199  |\n",
            "|32.0|189  |\n",
            "|24.0|185  |\n",
            "|55.0|94   |\n",
            "|26.0|210  |\n",
            "|65.0|152  |\n",
            "|54.0|212  |\n",
            "|43.0|93   |\n",
            "+----+-----+\n",
            "\n"
          ]
        }
      ]
    },
    {
      "cell_type": "code",
      "source": [
        "# distinct() to USING find the distinct TRANSFORMATION\n",
        "author_data.distinct().count()"
      ],
      "metadata": {
        "colab": {
          "base_uri": "https://localhost:8080/"
        },
        "id": "GU0S5We67MlV",
        "outputId": "40a33c69-0d8f-4d85-e6d8-0b8a14e1e655"
      },
      "execution_count": null,
      "outputs": [
        {
          "output_type": "execute_result",
          "data": {
            "text/plain": [
              "48"
            ]
          },
          "metadata": {},
          "execution_count": 29
        }
      ]
    },
    {
      "cell_type": "code",
      "source": [
        "# filter() to filter books published after 2000 into one dataframe and books with more than 4.0 rating to another dataframe\n",
        "left_data=data.filter(data[\"Education_Level\"]>3)\n",
        "right_data=data.filter(data[\"Pay_Scale\"]>4.0)"
      ],
      "metadata": {
        "id": "ULSRAOXb86FF"
      },
      "execution_count": null,
      "outputs": []
    },
    {
      "cell_type": "code",
      "source": [
        "# intersect() to find the books that were published after 3 and has rating more than 4.0\n",
        "in_data=left_data.intersect(right_data)\n",
        "in_data.select(\"Employee_ID\",\"Gender\",\"Age\",\"Relationship_Status\").show()"
      ],
      "metadata": {
        "colab": {
          "base_uri": "https://localhost:8080/"
        },
        "id": "kKI26BoR9TgR",
        "outputId": "a2598fa5-a3a3-433b-8fe6-343ef3c65592"
      },
      "execution_count": null,
      "outputs": [
        {
          "output_type": "stream",
          "name": "stdout",
          "text": [
            "+-----------+------+----+-------------------+\n",
            "|Employee_ID|Gender| Age|Relationship_Status|\n",
            "+-----------+------+----+-------------------+\n",
            "|   EID_4709|     F|57.0|             Single|\n",
            "|  EID_10211|     F|45.0|             Single|\n",
            "|  EID_22437|     M|28.0|            Married|\n",
            "|  EID_20520|     F|35.0|             Single|\n",
            "|  EID_12289|     F|30.0|            Married|\n",
            "|  EID_23721|     F|45.0|             Single|\n",
            "|  EID_25458|     F|37.0|             Single|\n",
            "|  EID_10586|     F|39.0|            Married|\n",
            "|   EID_5236|     F|51.0|             Single|\n",
            "|  EID_24642|     F|22.0|             Single|\n",
            "|  EID_11394|     F|33.0|             Single|\n",
            "|  EID_24485|     F|25.0|            Married|\n",
            "|   EID_2608|     F|62.0|            Married|\n",
            "|   EID_6686|     F|52.0|            Married|\n",
            "|  EID_23502|     M|30.0|             Single|\n",
            "|   EID_8143|     M|49.0|            Married|\n",
            "|   EID_7682|     F|50.0|             Single|\n",
            "|  EID_25325|     F|32.0|            Married|\n",
            "|  EID_11662|     F|36.0|            Married|\n",
            "|   EID_9972|     M|37.0|             Single|\n",
            "+-----------+------+----+-------------------+\n",
            "only showing top 20 rows\n",
            "\n"
          ]
        }
      ]
    },
    {
      "cell_type": "code",
      "source": [
        "# intersect() to find the books that were published after 2000 and has rating more than 4.0\n",
        "in_data=left_data.union(right_data)\n",
        "in_data.select(\"Employee_ID\",\"Gender\",\"Age\",\"Relationship_Status\").show()"
      ],
      "metadata": {
        "colab": {
          "base_uri": "https://localhost:8080/"
        },
        "id": "ZonYO06p9qJV",
        "outputId": "7a304433-ba32-4bf8-de34-77562c9c3582"
      },
      "execution_count": null,
      "outputs": [
        {
          "output_type": "stream",
          "name": "stdout",
          "text": [
            "+-----------+------+----+-------------------+\n",
            "|Employee_ID|Gender| Age|Relationship_Status|\n",
            "+-----------+------+----+-------------------+\n",
            "|  EID_23371|     F|42.0|            Married|\n",
            "|  EID_18588|     F|21.0|            Married|\n",
            "|  EID_10197|     M|40.0|             Single|\n",
            "|   EID_9153|     F|65.0|             Single|\n",
            "|  EID_19087|     F|19.0|             Single|\n",
            "|  EID_17644|     F|23.0|             Single|\n",
            "|   EID_5504|     M|65.0|             Single|\n",
            "|   EID_8049|     F|40.0|            Married|\n",
            "|  EID_20029|     F|22.0|            Married|\n",
            "|  EID_23853|     F|31.0|            Married|\n",
            "|  EID_16808|     F|24.0|             Single|\n",
            "|   EID_4861|     F|47.0|             Single|\n",
            "|  EID_18060|     M|24.0|             Single|\n",
            "|  EID_20761|     F|19.0|             Single|\n",
            "|  EID_10767|     M|43.0|            Married|\n",
            "|  EID_14404|     M|30.0|            Married|\n",
            "|  EID_23163|     M|27.0|            Married|\n",
            "|  EID_10796|     F|34.0|            Married|\n",
            "|  EID_15197|     M|31.0|             Single|\n",
            "|   EID_9981|     F|41.0|            Married|\n",
            "+-----------+------+----+-------------------+\n",
            "only showing top 20 rows\n",
            "\n"
          ]
        }
      ]
    },
    {
      "cell_type": "code",
      "source": [
        "# intersect() to find the books that were published after 2000 and has rating more than 4.0\n",
        "in_data=left_data.subtract(right_data)\n",
        "in_data.select(\"Employee_ID\",\"Gender\",\"Age\",\"Relationship_Status\").show()"
      ],
      "metadata": {
        "colab": {
          "base_uri": "https://localhost:8080/"
        },
        "id": "FyR9c26D90tl",
        "outputId": "82f34008-3100-457c-845e-519a637ee412"
      },
      "execution_count": null,
      "outputs": [
        {
          "output_type": "stream",
          "name": "stdout",
          "text": [
            "+-----------+------+----+-------------------+\n",
            "|Employee_ID|Gender| Age|Relationship_Status|\n",
            "+-----------+------+----+-------------------+\n",
            "|  EID_24456|     F|42.0|            Married|\n",
            "|   EID_7989|     M|59.0|            Married|\n",
            "|   EID_6514|     F|53.0|            Married|\n",
            "|   EID_9529|     M|65.0|             Single|\n",
            "|  EID_14483|     M|25.0|            Married|\n",
            "|  EID_12137|     M|35.0|             Single|\n",
            "|   EID_9735|     F|37.0|            Married|\n",
            "|  EID_18391|     F|21.0|             Single|\n",
            "|   EID_8892|     M|48.0|             Single|\n",
            "|   EID_6503|     F|48.0|            Married|\n",
            "|  EID_15401|     M|31.0|             Single|\n",
            "|  EID_16158|     F|29.0|            Married|\n",
            "|  EID_15706|     M|23.0|             Single|\n",
            "|   EID_8197|     F|49.0|            Married|\n",
            "|   EID_6439|     F|53.0|            Married|\n",
            "|   EID_5905|     F|54.0|            Married|\n",
            "|   EID_8544|     F|59.0|             Single|\n",
            "|  EID_23057|     M|45.0|            Married|\n",
            "|   EID_4538|     F|57.0|             Single|\n",
            "|   EID_3718|     F|64.0|            Married|\n",
            "+-----------+------+----+-------------------+\n",
            "only showing top 20 rows\n",
            "\n"
          ]
        }
      ]
    },
    {
      "cell_type": "code",
      "source": [
        "# sample() to create a sample from the original dataframe\n",
        "sample_data=data.sample(withReplacement=True,fraction=0.2,seed=1)\n",
        "sample_data.show(5)\n",
        "print('Sample size:',sample_data.count())"
      ],
      "metadata": {
        "colab": {
          "base_uri": "https://localhost:8080/"
        },
        "id": "QmgQWdHg95xu",
        "outputId": "f1793bcb-29ef-43b0-95d3-a447cd731ea6"
      },
      "execution_count": null,
      "outputs": [
        {
          "output_type": "stream",
          "name": "stdout",
          "text": [
            "+-----------+------+----+---------------+-------------------+-----------+----------+----------------------+---------------+--------------------+-----------+-----------+----------+---------+-------------------------+-----------------+----+-------+-------+----+----+----+----+--------------+\n",
            "|Employee_ID|Gender| Age|Education_Level|Relationship_Status|   Hometown|      Unit|Decision_skill_possess|Time_of_service|Time_since_promotion|growth_rate|Travel_Rate|Post_Level|Pay_Scale|Compensation_and_Benefits|Work_Life_balance|VAR1|   VAR2|   VAR3|VAR4|VAR5|VAR6|VAR7|Attrition_rate|\n",
            "+-----------+------+----+---------------+-------------------+-----------+----------+----------------------+---------------+--------------------+-----------+-----------+----------+---------+-------------------------+-----------------+----+-------+-------+----+----+----+----+--------------+\n",
            "|  EID_23371|     F|42.0|              4|            Married|   Franklin|        IT|            Conceptual|            4.0|                   4|         33|          1|         1|      7.0|                    type2|              3.0|   4| 0.7516| 1.8688| 2.0|   4|   5|   3|        0.1841|\n",
            "|  EID_22534|     F|31.0|              1|            Married|Springfield| Logistics|            Conceptual|            5.0|                   4|         62|          1|         3|      2.0|                    type3|              3.0|   1| 0.7516|-0.4537| 2.0|   2|   8|   2|        0.1827|\n",
            "|   EID_2278|     M|54.0|              3|            Married|    Lebanon|Purchasing|            Conceptual|           19.0|                   1|         21|          2|         5|      9.0|                    type2|              1.0|   3|-1.8176| 1.8688| 2.0|   2|   8|   3|        0.7613|\n",
            "|  EID_10197|     M|40.0|              4|             Single|Springfield|Production|            Analytical|           13.0|                   1|         49|          0|         1|      9.0|                    type0|              4.0|   1|   NULL| 1.8688| 2.0|   5|   6|   3|        0.1968|\n",
            "|  EID_16808|     F|24.0|              5|             Single|Springfield|     Sales|            Conceptual|            5.0|                   1|         52|          0|         3|      8.0|                    type2|              2.0|   3|-0.9612|-0.4537|NULL|   3|   8|   5|        0.1742|\n",
            "+-----------+------+----+---------------+-------------------+-----------+----------+----------------------+---------------+--------------------+-----------+-----------+----------+---------+-------------------------+-----------------+----+-------+-------+----+----+----+----+--------------+\n",
            "only showing top 5 rows\n",
            "\n",
            "Sample size: 1338\n"
          ]
        }
      ]
    },
    {
      "cell_type": "markdown",
      "source": [
        "## SQL"
      ],
      "metadata": {
        "id": "6WtWOLAafPIB"
      }
    },
    {
      "cell_type": "code",
      "source": [
        "# Creation of temp view table\n",
        "data.createTempView(\"EMP_DETAILS\")"
      ],
      "metadata": {
        "id": "4pYGCyIw-A6_"
      },
      "execution_count": null,
      "outputs": []
    },
    {
      "cell_type": "code",
      "source": [
        "# SQL query to view the table\n",
        "spark.sql(\"select * from EMP_DETAILS\").show(5)"
      ],
      "metadata": {
        "colab": {
          "base_uri": "https://localhost:8080/"
        },
        "id": "8gJOATpc_8fq",
        "outputId": "133ec356-2df4-4637-88da-0d08c0c93a06"
      },
      "execution_count": null,
      "outputs": [
        {
          "output_type": "stream",
          "name": "stdout",
          "text": [
            "+-----------+------+----+---------------+-------------------+-----------+--------------------+----------------------+---------------+--------------------+-----------+-----------+----------+---------+-------------------------+-----------------+----+-------+-------+----+----+----+----+--------------+\n",
            "|Employee_ID|Gender| Age|Education_Level|Relationship_Status|   Hometown|                Unit|Decision_skill_possess|Time_of_service|Time_since_promotion|growth_rate|Travel_Rate|Post_Level|Pay_Scale|Compensation_and_Benefits|Work_Life_balance|VAR1|   VAR2|   VAR3|VAR4|VAR5|VAR6|VAR7|Attrition_rate|\n",
            "+-----------+------+----+---------------+-------------------+-----------+--------------------+----------------------+---------------+--------------------+-----------+-----------+----------+---------+-------------------------+-----------------+----+-------+-------+----+----+----+----+--------------+\n",
            "|  EID_23371|     F|42.0|              4|            Married|   Franklin|                  IT|            Conceptual|            4.0|                   4|         33|          1|         1|      7.0|                    type2|              3.0|   4| 0.7516| 1.8688| 2.0|   4|   5|   3|        0.1841|\n",
            "|  EID_18000|     M|24.0|              3|             Single|Springfield|           Logistics|            Analytical|            5.0|                   4|         36|          0|         3|      6.0|                    type2|              4.0|   3|-0.9612|-0.4537| 2.0|   3|   5|   3|         0.067|\n",
            "|   EID_3891|     F|58.0|              3|            Married|    Clinton|             Quality|            Conceptual|           27.0|                   3|         51|          0|         2|      8.0|                    type2|              1.0|   4|-0.9612|-0.4537| 3.0|   3|   8|   3|        0.0851|\n",
            "|  EID_17492|     F|26.0|              3|             Single|    Lebanon|Human Resource Ma...|            Behavioral|            4.0|                   3|         56|          1|         3|      8.0|                    type2|              1.0|   3|-1.8176|-0.4537|NULL|   3|   7|   3|        0.0668|\n",
            "|  EID_22534|     F|31.0|              1|            Married|Springfield|           Logistics|            Conceptual|            5.0|                   4|         62|          1|         3|      2.0|                    type3|              3.0|   1| 0.7516|-0.4537| 2.0|   2|   8|   2|        0.1827|\n",
            "+-----------+------+----+---------------+-------------------+-----------+--------------------+----------------------+---------------+--------------------+-----------+-----------+----------+---------+-------------------------+-----------------+----+-------+-------+----+----+----+----+--------------+\n",
            "only showing top 5 rows\n",
            "\n"
          ]
        }
      ]
    },
    {
      "cell_type": "code",
      "source": [
        "# SSQL query to view distinct values of cattegory column\n",
        "spark.sql(\"select distinct Hometown from EMP_DETAILS\").show(25,False)"
      ],
      "metadata": {
        "colab": {
          "base_uri": "https://localhost:8080/"
        },
        "id": "TTyoxgl_AD9U",
        "outputId": "89cabfb0-5bbe-45f2-f50f-47670c4e90ee"
      },
      "execution_count": null,
      "outputs": [
        {
          "output_type": "stream",
          "name": "stdout",
          "text": [
            "+-----------+\n",
            "|Hometown   |\n",
            "+-----------+\n",
            "|Springfield|\n",
            "|Franklin   |\n",
            "|Washington |\n",
            "|Clinton    |\n",
            "|Lebanon    |\n",
            "+-----------+\n",
            "\n"
          ]
        }
      ]
    },
    {
      "cell_type": "code",
      "source": [
        "# SQL query to choose books under fiction category\n",
        "spark.sql(\"select Employee_ID,Gender,Age,Hometown from EMP_DETAILS where Hometown like '%Springfield%' \").show(10,False)"
      ],
      "metadata": {
        "colab": {
          "base_uri": "https://localhost:8080/"
        },
        "id": "x-VmvKsuAK4E",
        "outputId": "a8132a9f-b62e-4dec-e1e9-17727df63a4c"
      },
      "execution_count": null,
      "outputs": [
        {
          "output_type": "stream",
          "name": "stdout",
          "text": [
            "+-----------+------+----+-----------+\n",
            "|Employee_ID|Gender|Age |Hometown   |\n",
            "+-----------+------+----+-----------+\n",
            "|EID_18000  |M     |24.0|Springfield|\n",
            "|EID_22534  |F     |31.0|Springfield|\n",
            "|EID_18588  |F     |21.0|Springfield|\n",
            "|EID_1235   |F     |NULL|Springfield|\n",
            "|EID_10197  |M     |40.0|Springfield|\n",
            "|EID_19087  |F     |19.0|Springfield|\n",
            "|EID_20121  |F     |NULL|Springfield|\n",
            "|EID_8049   |F     |40.0|Springfield|\n",
            "|EID_14638  |M     |33.0|Springfield|\n",
            "|EID_23546  |F     |25.0|Springfield|\n",
            "+-----------+------+----+-----------+\n",
            "only showing top 10 rows\n",
            "\n"
          ]
        }
      ]
    },
    {
      "cell_type": "code",
      "source": [
        "from pyspark.sql.functions import lit"
      ],
      "metadata": {
        "id": "MmH_wgAhBBgM"
      },
      "execution_count": null,
      "outputs": []
    },
    {
      "cell_type": "code",
      "source": [
        "# SQL query to add a new column\n",
        "spark.sql(\"select distinct Unit from EMP_DETAILS\").withColumn(\"Salary\",lit(0)).show()"
      ],
      "metadata": {
        "colab": {
          "base_uri": "https://localhost:8080/"
        },
        "id": "hPYTFeP8Aw8n",
        "outputId": "81bc1b80-16d4-43db-f825-611da48caced"
      },
      "execution_count": null,
      "outputs": [
        {
          "output_type": "stream",
          "name": "stdout",
          "text": [
            "+--------------------+------+\n",
            "|                Unit|Salary|\n",
            "+--------------------+------+\n",
            "|               Sales|     0|\n",
            "|            Security|     0|\n",
            "|Human Resource Ma...|     0|\n",
            "|          Production|     0|\n",
            "|          Purchasing|     0|\n",
            "|          Operarions|     0|\n",
            "|Accounting and Fi...|     0|\n",
            "|           Marketing|     0|\n",
            "|                  IT|     0|\n",
            "|           Logistics|     0|\n",
            "|                 R&D|     0|\n",
            "|             Quality|     0|\n",
            "+--------------------+------+\n",
            "\n"
          ]
        }
      ]
    },
    {
      "cell_type": "code",
      "source": [
        "#SQL query to add multiple columns\n",
        "spark.sql(\"select distinct Unit from EMP_DETAILS\")\\\n",
        "      .withColumn(\"Salary\",lit(0))\\\n",
        "      .withColumn(\"prev_sal\",lit(\"unknown\"))\\\n",
        "      .withColumn(\"expected_sal\",lit(0)).show()"
      ],
      "metadata": {
        "colab": {
          "base_uri": "https://localhost:8080/"
        },
        "id": "RobOkog9A_Zl",
        "outputId": "dfd74446-974c-405b-8a75-194287b12a98"
      },
      "execution_count": null,
      "outputs": [
        {
          "output_type": "stream",
          "name": "stdout",
          "text": [
            "+--------------------+------+--------+------------+\n",
            "|                Unit|Salary|prev_sal|expected_sal|\n",
            "+--------------------+------+--------+------------+\n",
            "|               Sales|     0| unknown|           0|\n",
            "|            Security|     0| unknown|           0|\n",
            "|Human Resource Ma...|     0| unknown|           0|\n",
            "|          Production|     0| unknown|           0|\n",
            "|          Purchasing|     0| unknown|           0|\n",
            "|          Operarions|     0| unknown|           0|\n",
            "|Accounting and Fi...|     0| unknown|           0|\n",
            "|           Marketing|     0| unknown|           0|\n",
            "|                  IT|     0| unknown|           0|\n",
            "|           Logistics|     0| unknown|           0|\n",
            "|                 R&D|     0| unknown|           0|\n",
            "|             Quality|     0| unknown|           0|\n",
            "+--------------------+------+--------+------------+\n",
            "\n"
          ]
        }
      ]
    },
    {
      "cell_type": "code",
      "source": [
        "# SQL query to find average rating of each book\n",
        "spark.sql(\"select Unit, round(avg(Pay_Scale),2) as avg_payscale from EMP_DETAILS group by Unit\").show()"
      ],
      "metadata": {
        "colab": {
          "base_uri": "https://localhost:8080/"
        },
        "id": "yfpcd886Bcoh",
        "outputId": "8365e37f-a380-4431-be55-4aa54bed9096"
      },
      "execution_count": null,
      "outputs": [
        {
          "output_type": "stream",
          "name": "stdout",
          "text": [
            "+--------------------+------------+\n",
            "|                Unit|avg_payscale|\n",
            "+--------------------+------------+\n",
            "|               Sales|        5.98|\n",
            "|            Security|        5.97|\n",
            "|Human Resource Ma...|        6.07|\n",
            "|          Production|        5.99|\n",
            "|          Purchasing|        6.08|\n",
            "|          Operarions|        6.09|\n",
            "|Accounting and Fi...|        6.04|\n",
            "|           Marketing|        6.08|\n",
            "|                  IT|        5.96|\n",
            "|           Logistics|        5.98|\n",
            "|                 R&D|        5.94|\n",
            "|             Quality|        6.17|\n",
            "+--------------------+------------+\n",
            "\n"
          ]
        }
      ]
    },
    {
      "cell_type": "code",
      "source": [
        "from pyspark.sql import functions as F"
      ],
      "metadata": {
        "id": "e970u8IjCkGm"
      },
      "execution_count": null,
      "outputs": []
    },
    {
      "cell_type": "code",
      "source": [
        "# To add a new column named popularity based on the rating\n",
        "ds=spark.sql(\"select Unit, round(avg(Pay_Scale),2) as avg_payscale from EMP_DETAILS group by Unit\")\n",
        "ds.withColumn(\"GOOD\",F.when(ds[\"avg_Payscale\"]>=5.0,\"GOOD\")\\\n",
        "              .otherwise(\"Average\")).show(30)"
      ],
      "metadata": {
        "colab": {
          "base_uri": "https://localhost:8080/"
        },
        "id": "g7Ny1cmcB6HA",
        "outputId": "404630fa-ab1e-46a5-e0fd-a6f42248a804"
      },
      "execution_count": null,
      "outputs": [
        {
          "output_type": "stream",
          "name": "stdout",
          "text": [
            "+--------------------+------------+----+\n",
            "|                Unit|avg_payscale|GOOD|\n",
            "+--------------------+------------+----+\n",
            "|               Sales|        5.98|GOOD|\n",
            "|            Security|        5.97|GOOD|\n",
            "|Human Resource Ma...|        6.07|GOOD|\n",
            "|          Production|        5.99|GOOD|\n",
            "|          Purchasing|        6.08|GOOD|\n",
            "|          Operarions|        6.09|GOOD|\n",
            "|Accounting and Fi...|        6.04|GOOD|\n",
            "|           Marketing|        6.08|GOOD|\n",
            "|                  IT|        5.96|GOOD|\n",
            "|           Logistics|        5.98|GOOD|\n",
            "|                 R&D|        5.94|GOOD|\n",
            "|             Quality|        6.17|GOOD|\n",
            "+--------------------+------------+----+\n",
            "\n"
          ]
        }
      ]
    },
    {
      "cell_type": "markdown",
      "source": [
        "## MACHINE LEARNING"
      ],
      "metadata": {
        "id": "y4QW6aT9fV-N"
      }
    },
    {
      "cell_type": "code",
      "source": [
        "from pyspark.ml.regression import LinearRegression\n",
        "from pyspark.ml.feature import VectorAssembler"
      ],
      "metadata": {
        "id": "d7cYh-t8NkmX"
      },
      "execution_count": null,
      "outputs": []
    },
    {
      "cell_type": "code",
      "source": [
        "data = spark.read.csv(\"/content/drive/MyDrive/Train.csv\", header=True, inferSchema=True)"
      ],
      "metadata": {
        "id": "ow4-V4F7cDxQ"
      },
      "execution_count": null,
      "outputs": []
    },
    {
      "cell_type": "code",
      "source": [
        "data.printSchema()"
      ],
      "metadata": {
        "colab": {
          "base_uri": "https://localhost:8080/"
        },
        "id": "ajiH6LdQcOua",
        "outputId": "f082fc04-d494-4265-8989-afbc2f144b95"
      },
      "execution_count": null,
      "outputs": [
        {
          "output_type": "stream",
          "name": "stdout",
          "text": [
            "root\n",
            " |-- Employee_ID: string (nullable = true)\n",
            " |-- Gender: string (nullable = true)\n",
            " |-- Age: double (nullable = true)\n",
            " |-- Education_Level: integer (nullable = true)\n",
            " |-- Relationship_Status: string (nullable = true)\n",
            " |-- Hometown: string (nullable = true)\n",
            " |-- Unit: string (nullable = true)\n",
            " |-- Decision_skill_possess: string (nullable = true)\n",
            " |-- Time_of_service: double (nullable = true)\n",
            " |-- Time_since_promotion: integer (nullable = true)\n",
            " |-- growth_rate: integer (nullable = true)\n",
            " |-- Travel_Rate: integer (nullable = true)\n",
            " |-- Post_Level: integer (nullable = true)\n",
            " |-- Pay_Scale: double (nullable = true)\n",
            " |-- Compensation_and_Benefits: string (nullable = true)\n",
            " |-- Work_Life_balance: double (nullable = true)\n",
            " |-- VAR1: integer (nullable = true)\n",
            " |-- VAR2: double (nullable = true)\n",
            " |-- VAR3: double (nullable = true)\n",
            " |-- VAR4: double (nullable = true)\n",
            " |-- VAR5: integer (nullable = true)\n",
            " |-- VAR6: integer (nullable = true)\n",
            " |-- VAR7: integer (nullable = true)\n",
            " |-- Attrition_rate: double (nullable = true)\n",
            "\n"
          ]
        }
      ]
    },
    {
      "cell_type": "code",
      "source": [
        "data.show(10,False)"
      ],
      "metadata": {
        "colab": {
          "base_uri": "https://localhost:8080/"
        },
        "id": "A6Sx6lx6cREO",
        "outputId": "1e2d9d63-214b-4722-c334-3957cc3f552e"
      },
      "execution_count": null,
      "outputs": [
        {
          "output_type": "stream",
          "name": "stdout",
          "text": [
            "+-----------+------+----+---------------+-------------------+-----------+-------------------------+----------------------+---------------+--------------------+-----------+-----------+----------+---------+-------------------------+-----------------+----+-------+-------+----+----+----+----+--------------+\n",
            "|Employee_ID|Gender|Age |Education_Level|Relationship_Status|Hometown   |Unit                     |Decision_skill_possess|Time_of_service|Time_since_promotion|growth_rate|Travel_Rate|Post_Level|Pay_Scale|Compensation_and_Benefits|Work_Life_balance|VAR1|VAR2   |VAR3   |VAR4|VAR5|VAR6|VAR7|Attrition_rate|\n",
            "+-----------+------+----+---------------+-------------------+-----------+-------------------------+----------------------+---------------+--------------------+-----------+-----------+----------+---------+-------------------------+-----------------+----+-------+-------+----+----+----+----+--------------+\n",
            "|EID_23371  |F     |42.0|4              |Married            |Franklin   |IT                       |Conceptual            |4.0            |4                   |33         |1          |1         |7.0      |type2                    |3.0              |4   |0.7516 |1.8688 |2.0 |4   |5   |3   |0.1841        |\n",
            "|EID_18000  |M     |24.0|3              |Single             |Springfield|Logistics                |Analytical            |5.0            |4                   |36         |0          |3         |6.0      |type2                    |4.0              |3   |-0.9612|-0.4537|2.0 |3   |5   |3   |0.067         |\n",
            "|EID_3891   |F     |58.0|3              |Married            |Clinton    |Quality                  |Conceptual            |27.0           |3                   |51         |0          |2         |8.0      |type2                    |1.0              |4   |-0.9612|-0.4537|3.0 |3   |8   |3   |0.0851        |\n",
            "|EID_17492  |F     |26.0|3              |Single             |Lebanon    |Human Resource Management|Behavioral            |4.0            |3                   |56         |1          |3         |8.0      |type2                    |1.0              |3   |-1.8176|-0.4537|NULL|3   |7   |3   |0.0668        |\n",
            "|EID_22534  |F     |31.0|1              |Married            |Springfield|Logistics                |Conceptual            |5.0            |4                   |62         |1          |3         |2.0      |type3                    |3.0              |1   |0.7516 |-0.4537|2.0 |2   |8   |2   |0.1827        |\n",
            "|EID_2278   |M     |54.0|3              |Married            |Lebanon    |Purchasing               |Conceptual            |19.0           |1                   |21         |2          |5         |9.0      |type2                    |1.0              |3   |-1.8176|1.8688 |2.0 |2   |8   |3   |0.7613        |\n",
            "|EID_18588  |F     |21.0|4              |Married            |Springfield|Purchasing               |Directive             |2.0            |1                   |50         |1          |1         |6.0      |type2                    |2.0              |3   |-0.9612|0.7075 |2.0 |3   |7   |3   |0.2819        |\n",
            "|EID_1235   |F     |NULL|3              |Married            |Springfield|Sales                    |Directive             |34.0           |4                   |23         |1          |4         |6.0      |type3                    |2.0              |3   |-0.1048|-0.4537|2.0 |3   |9   |3   |0.1169        |\n",
            "|EID_10197  |M     |40.0|4              |Single             |Springfield|Production               |Analytical            |13.0           |1                   |49         |0          |1         |9.0      |type0                    |4.0              |1   |NULL   |1.8688 |2.0 |5   |6   |3   |0.1968        |\n",
            "|EID_21262  |M     |45.0|3              |Married            |Lebanon    |IT                       |Directive             |21.0           |4                   |34         |0          |2         |5.0      |type3                    |4.0              |3   |0.7516 |-0.4537|2.0 |4   |8   |3   |0.287         |\n",
            "+-----------+------+----+---------------+-------------------+-----------+-------------------------+----------------------+---------------+--------------------+-----------+-----------+----------+---------+-------------------------+-----------------+----+-------+-------+----+----+----+----+--------------+\n",
            "only showing top 10 rows\n",
            "\n"
          ]
        }
      ]
    },
    {
      "cell_type": "code",
      "source": [
        "data =data.na.drop()"
      ],
      "metadata": {
        "id": "l69xoKdncWvl"
      },
      "execution_count": null,
      "outputs": []
    },
    {
      "cell_type": "code",
      "source": [
        "# Encode categorical features\n",
        "from pyspark.ml.feature import StringIndexer\n",
        "indexer = StringIndexer(inputCols=[\"Employee_ID\",\"Gender\",\"Relationship_Status\",\"Hometown\",\"Unit\",\"Decision_skill_possess\",\"Compensation_and_Benefits\"], outputCols=[\"Employee_ID_index\",\"Gender_index\",\"Relationship_Status_index\",\"Hometown_index\",\"Unit_index\",\"Decision_skill_possess_index\",\"Compensation_and_Benefits_index\"])\n"
      ],
      "metadata": {
        "id": "7V7LutQgcZ83"
      },
      "execution_count": null,
      "outputs": []
    },
    {
      "cell_type": "code",
      "source": [
        "indexed = indexer.fit(data).transform(data)"
      ],
      "metadata": {
        "id": "0xDa7JKycb2q"
      },
      "execution_count": null,
      "outputs": []
    },
    {
      "cell_type": "code",
      "source": [
        "indexed.show()"
      ],
      "metadata": {
        "colab": {
          "base_uri": "https://localhost:8080/"
        },
        "id": "1nngRPkkcd7x",
        "outputId": "8318a0a4-e0f9-41e3-c618-e92b3d6852b6"
      },
      "execution_count": null,
      "outputs": [
        {
          "output_type": "stream",
          "name": "stdout",
          "text": [
            "+-----------+------+----+---------------+-------------------+-----------+--------------------+----------------------+---------------+--------------------+-----------+-----------+----------+---------+-------------------------+-----------------+----+-------+-------+----+----+----+----+--------------------+-----------------+------------+-------------------------+--------------+----------+----------------------------+-------------------------------+\n",
            "|Employee_ID|Gender| Age|Education_Level|Relationship_Status|   Hometown|                Unit|Decision_skill_possess|Time_of_service|Time_since_promotion|growth_rate|Travel_Rate|Post_Level|Pay_Scale|Compensation_and_Benefits|Work_Life_balance|VAR1|   VAR2|   VAR3|VAR4|VAR5|VAR6|VAR7|      Attrition_rate|Employee_ID_index|Gender_index|Relationship_Status_index|Hometown_index|Unit_index|Decision_skill_possess_index|Compensation_and_Benefits_index|\n",
            "+-----------+------+----+---------------+-------------------+-----------+--------------------+----------------------+---------------+--------------------+-----------+-----------+----------+---------+-------------------------+-----------------+----+-------+-------+----+----+----+----+--------------------+-----------------+------------+-------------------------+--------------+----------+----------------------------+-------------------------------+\n",
            "|  EID_23371|     F|42.0|              4|            Married|   Franklin|                  IT|            Conceptual|            4.0|                   4|         33|          1|         1|      7.0|                    type2|              3.0|   4| 0.7516| 1.8688| 2.0|   4|   5|   3|              0.1841|           3137.0|         0.0|                      0.0|           2.0|       0.0|                         2.0|                            0.0|\n",
            "|  EID_18000|     M|24.0|              3|             Single|Springfield|           Logistics|            Analytical|            5.0|                   4|         36|          0|         3|      6.0|                    type2|              4.0|   3|-0.9612|-0.4537| 2.0|   3|   5|   3|               0.067|           1877.0|         1.0|                      1.0|           1.0|       1.0|                         0.0|                            0.0|\n",
            "|   EID_3891|     F|58.0|              3|            Married|    Clinton|             Quality|            Conceptual|           27.0|                   3|         51|          0|         2|      8.0|                    type2|              1.0|   4|-0.9612|-0.4537| 3.0|   3|   8|   3|              0.0851|           4062.0|         0.0|                      0.0|           4.0|      10.0|                         2.0|                            0.0|\n",
            "|  EID_22534|     F|31.0|              1|            Married|Springfield|           Logistics|            Conceptual|            5.0|                   4|         62|          1|         3|      2.0|                    type3|              3.0|   1| 0.7516|-0.4537| 2.0|   2|   8|   2|              0.1827|           2937.0|         0.0|                      0.0|           1.0|       1.0|                         2.0|                            1.0|\n",
            "|   EID_2278|     M|54.0|              3|            Married|    Lebanon|          Purchasing|            Conceptual|           19.0|                   1|         21|          2|         5|      9.0|                    type2|              1.0|   3|-1.8176| 1.8688| 2.0|   2|   8|   3|              0.7613|           3002.0|         1.0|                      0.0|           0.0|       5.0|                         2.0|                            0.0|\n",
            "|  EID_18588|     F|21.0|              4|            Married|Springfield|          Purchasing|             Directive|            2.0|                   1|         50|          1|         1|      6.0|                    type2|              2.0|   3|-0.9612| 0.7075| 2.0|   3|   7|   3|              0.2819|           2026.0|         0.0|                      0.0|           1.0|       5.0|                         1.0|                            0.0|\n",
            "|  EID_21262|     M|45.0|              3|            Married|    Lebanon|                  IT|             Directive|           21.0|                   4|         34|          0|         2|      5.0|                    type3|              4.0|   3| 0.7516|-0.4537| 2.0|   4|   8|   3|               0.287|           2657.0|         1.0|                      0.0|           0.0|       0.0|                         1.0|                            1.0|\n",
            "|   EID_9153|     F|65.0|              5|             Single|    Lebanon|          Purchasing|            Behavioral|           31.0|                   3|         49|          1|         1|      6.0|                    type3|              3.0|   3| 0.7516|-0.4537| 3.0|   4|   6|   3|              0.2735|           5182.0|         0.0|                      1.0|           0.0|       5.0|                         3.0|                            1.0|\n",
            "|  EID_19087|     F|19.0|              5|             Single|Springfield|          Operarions|            Analytical|            0.0|                   0|         25|          1|         2|      5.0|                    type4|              1.0|   3|-1.8176|-0.4537| 2.0|   3|   6|   3|                0.08|           2144.0|         0.0|                      1.0|           1.0|       3.0|                         0.0|                            2.0|\n",
            "|   EID_4825|     M|63.0|              3|            Married|    Lebanon|               Sales|            Conceptual|           27.0|                   1|         29|          0|         2|      7.0|                    type2|              1.0|   3|-0.1048|-0.4537| 2.0|   5|   6|   3|              0.2109|           4267.0|         1.0|                      0.0|           0.0|       2.0|                         2.0|                            0.0|\n",
            "|  EID_17644|     F|23.0|              4|             Single| Washington|           Logistics|            Conceptual|            4.0|                   2|         70|          1|         3|      8.0|                    type2|              3.0|   4|-0.1048| -1.615| 2.0|   4|   8|   3|              0.1696|           1807.0|         0.0|                      1.0|           3.0|       1.0|                         2.0|                            0.0|\n",
            "|  EID_20902|     F|19.0|              3|            Married| Washington|Human Resource Ma...|             Directive|            0.0|                   0|         74|          0|         2|      9.0|                    type2|              3.0|   3|-0.9612| 1.8688| 2.0|   4|   6|   3|              0.0318|           2564.0|         0.0|                      0.0|           3.0|       7.0|                         1.0|                            0.0|\n",
            "|   EID_5504|     M|65.0|              4|             Single|   Franklin|                  IT|            Behavioral|           35.0|                   1|         58|          0|         3|      4.0|                    type2|              2.0|   3|-0.1048| 0.7075| 1.0|   3|   5|   3|              0.0671|           4403.0|         1.0|                      1.0|           2.0|       0.0|                         3.0|                            0.0|\n",
            "|   EID_8049|     F|40.0|              4|            Married|Springfield|Accounting and Fi...|             Directive|           12.0|                   1|         45|          1|         3|      9.0|                    type3|              2.0|   3|-0.9612|-0.4537| 2.0|   5|   8|   4|              0.1468|           4947.0|         0.0|                      0.0|           1.0|       6.0|                         1.0|                            1.0|\n",
            "|  EID_14638|     M|33.0|              3|             Single|Springfield|Accounting and Fi...|            Analytical|            9.0|                   1|         39|          1|         2|      5.0|                    type3|              1.0|   3|-1.8176| 0.7075| 2.0|   3|   8|   3|0.055999999999999994|           1119.0|         1.0|                      1.0|           1.0|       6.0|                         0.0|                            1.0|\n",
            "|  EID_20029|     F|22.0|              4|            Married|    Clinton|             Quality|            Behavioral|            3.0|                   1|         53|          0|         4|      6.0|                    type2|              3.0|   3|-0.9612|-0.4537| 2.0|   2|   7|   4|              0.1095|           2372.0|         0.0|                      0.0|           4.0|      10.0|                         3.0|                            0.0|\n",
            "|  EID_23546|     F|25.0|              3|            Married|Springfield|                  IT|             Directive|            6.0|                   3|         53|          1|         2|      6.0|                    type3|              1.0|   3| 0.7516| 0.7075| 3.0|   3|   8|   4|              0.0462|           3184.0|         0.0|                      0.0|           1.0|       0.0|                         1.0|                            1.0|\n",
            "|  EID_23853|     F|31.0|              4|            Married| Washington|Accounting and Fi...|            Analytical|            6.0|                   4|         39|          1|         3|      8.0|                    type3|              1.0|   3|-0.1048| 0.7075| 2.0|   3|   5|   3|              0.2704|           3245.0|         0.0|                      0.0|           3.0|       6.0|                         0.0|                            1.0|\n",
            "|   EID_4861|     F|47.0|              4|             Single| Washington|                 R&D|            Analytical|           21.0|                   1|         34|          1|         3|      8.0|                    type2|              4.0|   4| 0.7516| 0.7075| 2.0|   3|   5|   2|              0.2269|           4275.0|         0.0|                      1.0|           3.0|       4.0|                         0.0|                            0.0|\n",
            "|  EID_14066|     F|34.0|              3|            Married|    Lebanon|          Operarions|            Analytical|            6.0|                   1|         29|          0|         4|      7.0|                    type2|              3.0|   3|-1.8176|-0.4537| 2.0|   2|   8|   3|               0.273|            982.0|         0.0|                      0.0|           0.0|       3.0|                         0.0|                            0.0|\n",
            "+-----------+------+----+---------------+-------------------+-----------+--------------------+----------------------+---------------+--------------------+-----------+-----------+----------+---------+-------------------------+-----------------+----+-------+-------+----+----+----+----+--------------------+-----------------+------------+-------------------------+--------------+----------+----------------------------+-------------------------------+\n",
            "only showing top 20 rows\n",
            "\n"
          ]
        }
      ]
    },
    {
      "cell_type": "code",
      "source": [
        "assembler=VectorAssembler(inputCols=[\"Age\",\"Education_Level\",\"Time_of_service\",\"Time_since_promotion\",\"growth_rate\",\"Travel_Rate\",\"Post_Level\",\"Pay_Scale\",\"Work_Life_balance\",\"VAR1\",\"VAR2\",\"VAR3\",\"VAR4\",\"VAR5\",\"VAR6\",\"VAR7\",\"Employee_ID_index\",\"Gender_index\",\"Relationship_Status_index\",\"Hometown_index\",\"Unit_index\",\"Decision_skill_possess_index\",\"Compensation_and_Benefits_index\"],outputCol='features')"
      ],
      "metadata": {
        "id": "-keg0tGmcgKE"
      },
      "execution_count": null,
      "outputs": []
    },
    {
      "cell_type": "code",
      "source": [
        "output=assembler.transform(indexed)"
      ],
      "metadata": {
        "id": "d7B1kMb_ci1n"
      },
      "execution_count": null,
      "outputs": []
    },
    {
      "cell_type": "code",
      "source": [
        "output.printSchema()"
      ],
      "metadata": {
        "colab": {
          "base_uri": "https://localhost:8080/"
        },
        "id": "f9CPSU9bcki6",
        "outputId": "b6fdba67-60ba-4da1-ec0e-25d291b889ee"
      },
      "execution_count": null,
      "outputs": [
        {
          "output_type": "stream",
          "name": "stdout",
          "text": [
            "root\n",
            " |-- Employee_ID: string (nullable = true)\n",
            " |-- Gender: string (nullable = true)\n",
            " |-- Age: double (nullable = true)\n",
            " |-- Education_Level: integer (nullable = true)\n",
            " |-- Relationship_Status: string (nullable = true)\n",
            " |-- Hometown: string (nullable = true)\n",
            " |-- Unit: string (nullable = true)\n",
            " |-- Decision_skill_possess: string (nullable = true)\n",
            " |-- Time_of_service: double (nullable = true)\n",
            " |-- Time_since_promotion: integer (nullable = true)\n",
            " |-- growth_rate: integer (nullable = true)\n",
            " |-- Travel_Rate: integer (nullable = true)\n",
            " |-- Post_Level: integer (nullable = true)\n",
            " |-- Pay_Scale: double (nullable = true)\n",
            " |-- Compensation_and_Benefits: string (nullable = true)\n",
            " |-- Work_Life_balance: double (nullable = true)\n",
            " |-- VAR1: integer (nullable = true)\n",
            " |-- VAR2: double (nullable = true)\n",
            " |-- VAR3: double (nullable = true)\n",
            " |-- VAR4: double (nullable = true)\n",
            " |-- VAR5: integer (nullable = true)\n",
            " |-- VAR6: integer (nullable = true)\n",
            " |-- VAR7: integer (nullable = true)\n",
            " |-- Attrition_rate: double (nullable = true)\n",
            " |-- Employee_ID_index: double (nullable = false)\n",
            " |-- Gender_index: double (nullable = false)\n",
            " |-- Relationship_Status_index: double (nullable = false)\n",
            " |-- Hometown_index: double (nullable = false)\n",
            " |-- Unit_index: double (nullable = false)\n",
            " |-- Decision_skill_possess_index: double (nullable = false)\n",
            " |-- Compensation_and_Benefits_index: double (nullable = false)\n",
            " |-- features: vector (nullable = true)\n",
            "\n"
          ]
        }
      ]
    },
    {
      "cell_type": "code",
      "source": [
        "final_data=output.select('features','Attrition_rate')\n",
        "final_data.show()"
      ],
      "metadata": {
        "colab": {
          "base_uri": "https://localhost:8080/"
        },
        "id": "UYC9mSxocmRV",
        "outputId": "82028d95-7157-493a-ad29-9e3a32bc46e9"
      },
      "execution_count": null,
      "outputs": [
        {
          "output_type": "stream",
          "name": "stdout",
          "text": [
            "+--------------------+--------------------+\n",
            "|            features|      Attrition_rate|\n",
            "+--------------------+--------------------+\n",
            "|[42.0,4.0,4.0,4.0...|              0.1841|\n",
            "|[24.0,3.0,5.0,4.0...|               0.067|\n",
            "|[58.0,3.0,27.0,3....|              0.0851|\n",
            "|[31.0,1.0,5.0,4.0...|              0.1827|\n",
            "|[54.0,3.0,19.0,1....|              0.7613|\n",
            "|[21.0,4.0,2.0,1.0...|              0.2819|\n",
            "|[45.0,3.0,21.0,4....|               0.287|\n",
            "|[65.0,5.0,31.0,3....|              0.2735|\n",
            "|[19.0,5.0,0.0,0.0...|                0.08|\n",
            "|[63.0,3.0,27.0,1....|              0.2109|\n",
            "|[23.0,4.0,4.0,2.0...|              0.1696|\n",
            "|[19.0,3.0,0.0,0.0...|              0.0318|\n",
            "|[65.0,4.0,35.0,1....|              0.0671|\n",
            "|[40.0,4.0,12.0,1....|              0.1468|\n",
            "|[33.0,3.0,9.0,1.0...|0.055999999999999994|\n",
            "|[22.0,4.0,3.0,1.0...|              0.1095|\n",
            "|[25.0,3.0,6.0,3.0...|              0.0462|\n",
            "|[31.0,4.0,6.0,4.0...|              0.2704|\n",
            "|[47.0,4.0,21.0,1....|              0.2269|\n",
            "|[34.0,3.0,6.0,1.0...|               0.273|\n",
            "+--------------------+--------------------+\n",
            "only showing top 20 rows\n",
            "\n"
          ]
        }
      ]
    },
    {
      "cell_type": "code",
      "source": [
        "train_data,test_data=final_data.randomSplit([0.7,0.3])"
      ],
      "metadata": {
        "id": "-7TlX3Qxcohj"
      },
      "execution_count": null,
      "outputs": []
    },
    {
      "cell_type": "code",
      "source": [
        "#regressor=LinearRegression(labelCol='price')\n",
        "regressor=LinearRegression(maxIter=100,regParam=1,elasticNetParam=0.3,labelCol='Attrition_rate')"
      ],
      "metadata": {
        "id": "81gZjq1ecqft"
      },
      "execution_count": null,
      "outputs": []
    },
    {
      "cell_type": "code",
      "source": [
        "model=regressor.fit(train_data)"
      ],
      "metadata": {
        "id": "anyfuI6qcsGK"
      },
      "execution_count": null,
      "outputs": []
    },
    {
      "cell_type": "code",
      "source": [
        "test_predictions = model.transform(test_data)\n",
        "test_predictions.show(40)"
      ],
      "metadata": {
        "colab": {
          "base_uri": "https://localhost:8080/"
        },
        "id": "ah1hcrxict15",
        "outputId": "2a037fea-cf1a-44bf-fef7-a36afa42afd1"
      },
      "execution_count": null,
      "outputs": [
        {
          "output_type": "stream",
          "name": "stdout",
          "text": [
            "+--------------------+-------------------+------------------+\n",
            "|            features|     Attrition_rate|        prediction|\n",
            "+--------------------+-------------------+------------------+\n",
            "|[19.0,1.0,0.0,0.0...|             0.0965|0.1870424477771829|\n",
            "|[19.0,1.0,0.0,0.0...|             0.0902|0.1870424477771829|\n",
            "|[19.0,1.0,0.0,0.0...|             0.7142|0.1870424477771829|\n",
            "|[19.0,1.0,0.0,0.0...|             0.2147|0.1870424477771829|\n",
            "|[19.0,1.0,0.0,0.0...|             0.1263|0.1870424477771829|\n",
            "|[19.0,2.0,0.0,0.0...|             0.6996|0.1870424477771829|\n",
            "|[19.0,2.0,0.0,0.0...|             0.2516|0.1870424477771829|\n",
            "|[19.0,3.0,0.0,0.0...|             0.1863|0.1870424477771829|\n",
            "|[19.0,3.0,0.0,0.0...|             0.1586|0.1870424477771829|\n",
            "|[19.0,3.0,0.0,0.0...|             0.1879|0.1870424477771829|\n",
            "|[19.0,3.0,0.0,0.0...|             0.4894|0.1870424477771829|\n",
            "|[19.0,3.0,0.0,0.0...|             0.0123|0.1870424477771829|\n",
            "|[19.0,3.0,0.0,0.0...|             0.0156|0.1870424477771829|\n",
            "|[19.0,3.0,0.0,0.0...|             0.0678|0.1870424477771829|\n",
            "|[19.0,3.0,0.0,0.0...|             0.0143|0.1870424477771829|\n",
            "|[19.0,3.0,0.0,0.0...|             0.0684|0.1870424477771829|\n",
            "|[19.0,3.0,0.0,0.0...|             0.1946|0.1870424477771829|\n",
            "|[19.0,3.0,0.0,0.0...|             0.1317|0.1870424477771829|\n",
            "|[19.0,3.0,0.0,0.0...|             0.2111|0.1870424477771829|\n",
            "|[19.0,3.0,0.0,0.0...|0.12300000000000001|0.1870424477771829|\n",
            "|[19.0,3.0,0.0,0.0...|             0.0105|0.1870424477771829|\n",
            "|[19.0,3.0,0.0,0.0...|             0.0154|0.1870424477771829|\n",
            "|[19.0,3.0,0.0,0.0...|             0.0318|0.1870424477771829|\n",
            "|[19.0,4.0,0.0,0.0...|             0.2577|0.1870424477771829|\n",
            "|[19.0,4.0,0.0,0.0...|             0.1788|0.1870424477771829|\n",
            "|[19.0,4.0,0.0,0.0...|             0.1798|0.1870424477771829|\n",
            "|[19.0,4.0,0.0,0.0...|             0.1441|0.1870424477771829|\n",
            "|[19.0,4.0,0.0,0.0...|             0.1622|0.1870424477771829|\n",
            "|[19.0,4.0,0.0,0.0...|             0.1105|0.1870424477771829|\n",
            "|[19.0,4.0,0.0,0.0...|             0.1306|0.1870424477771829|\n",
            "|[19.0,4.0,0.0,0.0...|              0.174|0.1870424477771829|\n",
            "|[19.0,4.0,0.0,0.0...|             0.1019|0.1870424477771829|\n",
            "|[19.0,4.0,0.0,0.0...|             0.0133|0.1870424477771829|\n",
            "|[19.0,4.0,0.0,0.0...|             0.1493|0.1870424477771829|\n",
            "|[19.0,4.0,0.0,0.0...|             0.0505|0.1870424477771829|\n",
            "|[19.0,4.0,0.0,0.0...|             0.0891|0.1870424477771829|\n",
            "|[19.0,4.0,0.0,0.0...|             0.9743|0.1870424477771829|\n",
            "|[19.0,5.0,0.0,0.0...|             0.2367|0.1870424477771829|\n",
            "|[19.0,5.0,0.0,0.0...|             0.1468|0.1870424477771829|\n",
            "|[19.0,5.0,0.0,0.0...|             0.7082|0.1870424477771829|\n",
            "+--------------------+-------------------+------------------+\n",
            "only showing top 40 rows\n",
            "\n"
          ]
        }
      ]
    },
    {
      "cell_type": "code",
      "source": [
        "pred_data=model.evaluate(test_data)\n",
        "pred_data.residuals.show()"
      ],
      "metadata": {
        "colab": {
          "base_uri": "https://localhost:8080/"
        },
        "id": "o7O6o3aQcvcL",
        "outputId": "75bd342f-25ab-4e77-a18c-bee27f43c4dd"
      },
      "execution_count": null,
      "outputs": [
        {
          "output_type": "stream",
          "name": "stdout",
          "text": [
            "+--------------------+\n",
            "|           residuals|\n",
            "+--------------------+\n",
            "| -0.0905424477771829|\n",
            "| -0.0968424477771829|\n",
            "|   0.527157552222817|\n",
            "|  0.0276575522228171|\n",
            "|-0.06074244777718...|\n",
            "|  0.5125575522228171|\n",
            "| 0.06455755222281709|\n",
            "|-7.42447777182908...|\n",
            "|-0.02844244777718291|\n",
            "|8.575522228171095E-4|\n",
            "|  0.3023575522228171|\n",
            "| -0.1747424477771829|\n",
            "| -0.1714424477771829|\n",
            "| -0.1192424477771829|\n",
            "| -0.1727424477771829|\n",
            "| -0.1186424477771829|\n",
            "|0.007557552222817093|\n",
            "|-0.05534244777718289|\n",
            "|0.024057552222817108|\n",
            "|-0.06404244777718289|\n",
            "+--------------------+\n",
            "only showing top 20 rows\n",
            "\n"
          ]
        }
      ]
    },
    {
      "cell_type": "code",
      "source": [
        "pred_data.r2"
      ],
      "metadata": {
        "colab": {
          "base_uri": "https://localhost:8080/"
        },
        "id": "SCbxJ31Ecx1h",
        "outputId": "34d4dbb5-f29d-4bd2-c48a-f6030e34d961"
      },
      "execution_count": null,
      "outputs": [
        {
          "output_type": "execute_result",
          "data": {
            "text/plain": [
              "-0.0016893583123214206"
            ]
          },
          "metadata": {},
          "execution_count": 158
        }
      ]
    },
    {
      "cell_type": "code",
      "source": [
        "featurecols =[\"Age\",\"Education_Level\",\"Time_of_service\",\"Time_since_promotion\",\"growth_rate\",\"Travel_Rate\",\"Post_Level\",\"Pay_Scale\",\"Work_Life_balance\",\"VAR1\",\"VAR2\",\"VAR3\",\"VAR4\",\"VAR5\",\"VAR6\",\"VAR7\",\"Employee_ID_index\",\"Gender_index\",\"Relationship_Status_index\",\"Hometown_index\",\"Unit_index\",\"Decision_skill_possess_index\",\"Compensation_and_Benefits_index\"]"
      ],
      "metadata": {
        "id": "lsLlBVkzc0r4"
      },
      "execution_count": null,
      "outputs": []
    },
    {
      "cell_type": "code",
      "source": [
        "input_data=[(41.0,3,18.0,3,21,0,2,4.0,1.0,3,-1.8176,-0.4537,2.0,3,6,3,1877.0,1.0,1.0,1.0,1.0,0.0,0.0),(42.0,2,19.0,3,22,0,1,3.0,1.0,3,-1.8176,-0.4237,2.0,3,5,3,1877.0,1.0,1.0,1.0,1.0,0.0,0.0)]\n",
        "output_list=spark.createDataFrame(data=input_data,schema=featurecols)"
      ],
      "metadata": {
        "id": "bni3DU7MdLkq"
      },
      "execution_count": null,
      "outputs": []
    },
    {
      "cell_type": "code",
      "source": [
        "output_list.show()"
      ],
      "metadata": {
        "colab": {
          "base_uri": "https://localhost:8080/"
        },
        "id": "Epuf7jG5dNaj",
        "outputId": "22340096-17db-49a2-df63-8a9511866cc5"
      },
      "execution_count": null,
      "outputs": [
        {
          "output_type": "stream",
          "name": "stdout",
          "text": [
            "+----+---------------+---------------+--------------------+-----------+-----------+----------+---------+-----------------+----+-------+-------+----+----+----+----+-----------------+------------+-------------------------+--------------+----------+----------------------------+-------------------------------+\n",
            "| Age|Education_Level|Time_of_service|Time_since_promotion|growth_rate|Travel_Rate|Post_Level|Pay_Scale|Work_Life_balance|VAR1|   VAR2|   VAR3|VAR4|VAR5|VAR6|VAR7|Employee_ID_index|Gender_index|Relationship_Status_index|Hometown_index|Unit_index|Decision_skill_possess_index|Compensation_and_Benefits_index|\n",
            "+----+---------------+---------------+--------------------+-----------+-----------+----------+---------+-----------------+----+-------+-------+----+----+----+----+-----------------+------------+-------------------------+--------------+----------+----------------------------+-------------------------------+\n",
            "|41.0|              3|           18.0|                   3|         21|          0|         2|      4.0|              1.0|   3|-1.8176|-0.4537| 2.0|   3|   6|   3|           1877.0|         1.0|                      1.0|           1.0|       1.0|                         0.0|                            0.0|\n",
            "|42.0|              2|           19.0|                   3|         22|          0|         1|      3.0|              1.0|   3|-1.8176|-0.4237| 2.0|   3|   5|   3|           1877.0|         1.0|                      1.0|           1.0|       1.0|                         0.0|                            0.0|\n",
            "+----+---------------+---------------+--------------------+-----------+-----------+----------+---------+-----------------+----+-------+-------+----+----+----+----+-----------------+------------+-------------------------+--------------+----------+----------------------------+-------------------------------+\n",
            "\n"
          ]
        }
      ]
    },
    {
      "cell_type": "code",
      "source": [
        "output1=assembler.transform(output_list)\n",
        "final_data1=output1.select(\"features\")\n",
        "final_data1.show(truncate=False)"
      ],
      "metadata": {
        "colab": {
          "base_uri": "https://localhost:8080/"
        },
        "id": "zrhGj0UydPaG",
        "outputId": "d0cdb4dc-1e4e-462e-f80a-a61a45d20d3e"
      },
      "execution_count": null,
      "outputs": [
        {
          "output_type": "stream",
          "name": "stdout",
          "text": [
            "+-----------------------------------------------------------------------------------------------------------+\n",
            "|features                                                                                                   |\n",
            "+-----------------------------------------------------------------------------------------------------------+\n",
            "|[41.0,3.0,18.0,3.0,21.0,0.0,2.0,4.0,1.0,3.0,-1.8176,-0.4537,2.0,3.0,6.0,3.0,1877.0,1.0,1.0,1.0,1.0,0.0,0.0]|\n",
            "|[42.0,2.0,19.0,3.0,22.0,0.0,1.0,3.0,1.0,3.0,-1.8176,-0.4237,2.0,3.0,5.0,3.0,1877.0,1.0,1.0,1.0,1.0,0.0,0.0]|\n",
            "+-----------------------------------------------------------------------------------------------------------+\n",
            "\n"
          ]
        }
      ]
    },
    {
      "cell_type": "code",
      "source": [
        "predictions=model.transform(final_data1)\n",
        "predictions.show(truncate=False)"
      ],
      "metadata": {
        "colab": {
          "base_uri": "https://localhost:8080/"
        },
        "id": "UYC9jcwHdRcT",
        "outputId": "bfb643b1-237a-4266-b63a-bdc0135d5486"
      },
      "execution_count": null,
      "outputs": [
        {
          "output_type": "stream",
          "name": "stdout",
          "text": [
            "+-----------------------------------------------------------------------------------------------------------+------------------+\n",
            "|features                                                                                                   |prediction        |\n",
            "+-----------------------------------------------------------------------------------------------------------+------------------+\n",
            "|[41.0,3.0,18.0,3.0,21.0,0.0,2.0,4.0,1.0,3.0,-1.8176,-0.4537,2.0,3.0,6.0,3.0,1877.0,1.0,1.0,1.0,1.0,0.0,0.0]|0.1870424477771829|\n",
            "|[42.0,2.0,19.0,3.0,22.0,0.0,1.0,3.0,1.0,3.0,-1.8176,-0.4237,2.0,3.0,5.0,3.0,1877.0,1.0,1.0,1.0,1.0,0.0,0.0]|0.1870424477771829|\n",
            "+-----------------------------------------------------------------------------------------------------------+------------------+\n",
            "\n"
          ]
        }
      ]
    },
    {
      "cell_type": "markdown",
      "source": [
        "THUS ABOVE THE EMPLOYEE ATTRITION RATE IS PREDICTED WITH RANDOM INPUTS."
      ],
      "metadata": {
        "id": "JyzGC-nudVnX"
      }
    }
  ],
  "metadata": {
    "colab": {
      "provenance": [],
      "collapsed_sections": [
        "uHoPaopHe_Eh",
        "IpWhR7EGfHH2",
        "6WtWOLAafPIB",
        "y4QW6aT9fV-N"
      ],
      "mount_file_id": "1XmqCDThMbQUi3jxrFB6RVSmuPyrcsL7t",
      "authorship_tag": "ABX9TyP4xZAdKQxHf76WKdm/ohEq",
      "include_colab_link": true
    },
    "kernelspec": {
      "display_name": "Python 3",
      "name": "python3"
    },
    "language_info": {
      "name": "python"
    }
  },
  "nbformat": 4,
  "nbformat_minor": 0
}